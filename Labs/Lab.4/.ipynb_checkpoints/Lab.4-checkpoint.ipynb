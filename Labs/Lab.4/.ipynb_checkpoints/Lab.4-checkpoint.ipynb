{
 "cells": [
  {
   "cell_type": "markdown",
   "metadata": {},
   "source": [
    "# Lab 4- Object Oriented Programming\n",
    "\n",
    "For all of the exercises below, make sure you provide tests of your solutions.\n"
   ]
  },
  {
   "cell_type": "markdown",
   "metadata": {},
   "source": [
    "1. Write a \"counter\" class that can be incremented up to a specified maximum value, will print an error if an attempt is made to increment beyond that value, and allows reseting the counter. "
   ]
  },
  {
   "cell_type": "code",
   "execution_count": 3,
   "metadata": {},
   "outputs": [],
   "source": [
    "class Counter:\n",
    "    def __init__(self, max_val):\n",
    "        self.max_val = max_val\n",
    "        self.value = 0\n",
    "\n",
    "    def increment(self):\n",
    "        if self.value < self.max_val:\n",
    "            self.value = self.value + 1\n",
    "        else:\n",
    "            print(\"Error: Maximum Value Reached\")\n",
    "\n",
    "    def reset(self):\n",
    "        self.value = 0\n",
    "        return self.value\n"
   ]
  },
  {
   "cell_type": "code",
   "execution_count": 5,
   "metadata": {},
   "outputs": [
    {
     "name": "stdout",
     "output_type": "stream",
     "text": [
      "Error: Maximum Value Reached\n"
     ]
    }
   ],
   "source": [
    "count = Counter(3)\n",
    "\n",
    "count.increment()\n",
    "count.increment()\n",
    "count.increment()\n",
    "count.increment()"
   ]
  },
  {
   "cell_type": "code",
   "execution_count": 6,
   "metadata": {},
   "outputs": [
    {
     "data": {
      "text/plain": [
       "0"
      ]
     },
     "execution_count": 6,
     "metadata": {},
     "output_type": "execute_result"
    }
   ],
   "source": [
    "count.reset()"
   ]
  },
  {
   "cell_type": "markdown",
   "metadata": {},
   "source": [
    "2. Copy and paste your solution to question 1 and modify it so that all the data held by the counter is private. Implement functions to check the value of the counter, check the maximum value, and check if the counter is at the maximum."
   ]
  },
  {
   "cell_type": "code",
   "execution_count": 12,
   "metadata": {},
   "outputs": [],
   "source": [
    "class Counter:\n",
    "    def __init__(self, max_val):\n",
    "        self.__max_val = max_val\n",
    "        self.__value = 0\n",
    "\n",
    "    def increment(self):\n",
    "        if self.__value < self.__max_val:\n",
    "            self.__value = self.__value + 1\n",
    "        else:\n",
    "            print(\"Error: Maximum Value Reached\")\n",
    "\n",
    "    def reset(self):\n",
    "        self.__value = 0\n",
    "        return self.__value\n",
    "\n",
    "    def check_val(self):\n",
    "        return self.__value\n",
    "\n",
    "    def check_max(self):\n",
    "        return self.__max_val\n",
    "\n",
    "    def check_at_max(self):\n",
    "        if self.__value == self.__max_val:\n",
    "            return True\n",
    "        else:\n",
    "            return False\n"
   ]
  },
  {
   "cell_type": "code",
   "execution_count": 13,
   "metadata": {},
   "outputs": [
    {
     "data": {
      "text/plain": [
       "2"
      ]
     },
     "execution_count": 13,
     "metadata": {},
     "output_type": "execute_result"
    }
   ],
   "source": [
    "count = Counter(3)\n",
    "\n",
    "count.increment()\n",
    "count.increment()\n",
    "count.check_val()"
   ]
  },
  {
   "cell_type": "code",
   "execution_count": 14,
   "metadata": {},
   "outputs": [
    {
     "data": {
      "text/plain": [
       "3"
      ]
     },
     "execution_count": 14,
     "metadata": {},
     "output_type": "execute_result"
    }
   ],
   "source": [
    "count.check_max()"
   ]
  },
  {
   "cell_type": "code",
   "execution_count": 15,
   "metadata": {},
   "outputs": [
    {
     "data": {
      "text/plain": [
       "False"
      ]
     },
     "execution_count": 15,
     "metadata": {},
     "output_type": "execute_result"
    }
   ],
   "source": [
    "count.check_at_max()"
   ]
  },
  {
   "cell_type": "code",
   "execution_count": 16,
   "metadata": {},
   "outputs": [
    {
     "data": {
      "text/plain": [
       "True"
      ]
     },
     "execution_count": 16,
     "metadata": {},
     "output_type": "execute_result"
    }
   ],
   "source": [
    "count.increment()\n",
    "count.check_at_max()"
   ]
  },
  {
   "cell_type": "markdown",
   "metadata": {},
   "source": [
    "3. Implement a class to represent a rectangle, holding the length, width, and $x$ and $y$ coordinates of a corner of the object. Implement functions that compute the area and perimeter of the rectangle. Make all data members private and privide accessors to retrieve values of data members. "
   ]
  },
  {
   "cell_type": "code",
   "execution_count": 33,
   "metadata": {},
   "outputs": [],
   "source": [
    "class Rectangle:\n",
    "    def __init__(self, l, w, x, y):\n",
    "        self.__l = l\n",
    "        self.__w = w\n",
    "        self.__x = x\n",
    "        self.__y = y\n",
    "\n",
    "    def perimeter(self):\n",
    "        return (2 * self.__l) + (2 * self.__w)\n",
    "\n",
    "    def area(self):\n",
    "        return self.__l * self.__w\n",
    "\n",
    "    def check_len(self):\n",
    "        return self.__l\n",
    "\n",
    "    def check_wid(self):\n",
    "        return self.__w\n",
    "\n",
    "    def check_x(self):\n",
    "        return self.__x\n",
    "\n",
    "    def check_y(self):\n",
    "        return self.__y"
   ]
  },
  {
   "cell_type": "code",
   "execution_count": 34,
   "metadata": {},
   "outputs": [
    {
     "name": "stdout",
     "output_type": "stream",
     "text": [
      "Length: 3\n",
      "Width: 4\n",
      "Perimeter: 14\n",
      "Area: 12\n",
      "X-Coordinate: 5\n",
      "Y-Coordinate: 6\n"
     ]
    }
   ],
   "source": [
    "rec = Rectangle(3,4,5,6)\n",
    "\n",
    "print(\"Length:\",rec.check_len())\n",
    "print(\"Width:\",rec.check_wid())\n",
    "print(\"Perimeter:\",rec.perimeter())\n",
    "print(\"Area:\",rec.area())\n",
    "print(\"X-Coordinate:\",rec.check_x())\n",
    "print(\"Y-Coordinate:\",rec.check_y())"
   ]
  },
  {
   "cell_type": "markdown",
   "metadata": {},
   "source": [
    "4. Implement a class to represent a circle, holding the radius and $x$ and $y$ coordinates of center of the object. Implement functions that compute the area and perimeter of the circle. Make all data members private and privide accessors to retrieve values of data members. "
   ]
  },
  {
   "cell_type": "code",
   "execution_count": 35,
   "metadata": {},
   "outputs": [],
   "source": [
    "class Circle:\n",
    "    def __init__(self, r, x, y):\n",
    "        self.__r = r\n",
    "        self.__x = x\n",
    "        self.__y = y\n",
    "        self.__pi = 3.14\n",
    "\n",
    "    def perimeter(self):\n",
    "        return (self.__pi * self.__r * 2)\n",
    "\n",
    "    def area(self):\n",
    "        return (self.__pi * self.__r) ** 2\n",
    "\n",
    "    def check_rad(self):\n",
    "        return self.__r\n",
    "\n",
    "    def check_x(self):\n",
    "        return self.__x\n",
    "\n",
    "    def check_y(self):\n",
    "        return self.__y"
   ]
  },
  {
   "cell_type": "code",
   "execution_count": 36,
   "metadata": {},
   "outputs": [
    {
     "name": "stdout",
     "output_type": "stream",
     "text": [
      "Radius: 3\n",
      "Perimeter: 18.84\n",
      "Area: 88.7364\n",
      "X-Coordinate: 4\n",
      "Y-Coordinate: 5\n"
     ]
    }
   ],
   "source": [
    "cir = Circle(3,4,5)\n",
    "\n",
    "print(\"Radius:\",cir.check_rad())\n",
    "print(\"Perimeter:\",cir.perimeter())\n",
    "print(\"Area:\",cir.area())\n",
    "print(\"X-Coordinate:\",cir.check_x())\n",
    "print(\"Y-Coordinate:\",cir.check_y())"
   ]
  },
  {
   "cell_type": "markdown",
   "metadata": {},
   "source": [
    "5. Implement a common base class for the classes implemented in 3 and 4 above which implements all common methods as not implemented functions (virtual). Re-implement your rectangle and circule classes to inherit from the base class and overload the functions accordingly. "
   ]
  },
  {
   "cell_type": "code",
   "execution_count": 37,
   "metadata": {},
   "outputs": [],
   "source": [
    "class Shape:\n",
    "\n",
    "    def perimeter(self):\n",
    "        raise NotImplementedError\n",
    "\n",
    "    def area(self):\n",
    "        raise NotImplementedError\n",
    "\n",
    "    def check_parameters(self):\n",
    "        raise NotImplementedError\n",
    "\n",
    "    def check_x(self):\n",
    "        raise NotImplementedError\n",
    "\n",
    "    def check_y(self):\n",
    "        raise NotImplementedError"
   ]
  },
  {
   "cell_type": "code",
   "execution_count": 38,
   "metadata": {},
   "outputs": [],
   "source": [
    "class Rectangle(Shape):\n",
    "    def __init__(self, l, w, x, y):\n",
    "        self.__l = l\n",
    "        self.__w = w\n",
    "        self.__x = x\n",
    "        self.__y = y\n",
    "\n",
    "    def perimeter(self):\n",
    "        return (2 * self.__l) + (2 * self.__w)\n",
    "\n",
    "    def area(self):\n",
    "        return self.__l * self.__w\n",
    "\n",
    "    def check_len(self):\n",
    "        return self.__l\n",
    "\n",
    "    def check_wid(self):\n",
    "        return self.__w\n",
    "\n",
    "    def check_parameters(self):\n",
    "        print(\"Length:\", self.check_len())\n",
    "        print(\"Width:\", self.check_wid())\n",
    "\n",
    "    def check_x(self):\n",
    "        return self.__x\n",
    "\n",
    "    def check_y(self):\n",
    "        return self.__y"
   ]
  },
  {
   "cell_type": "code",
   "execution_count": 42,
   "metadata": {},
   "outputs": [],
   "source": [
    "class Circle(Shape):\n",
    "    def __init__(self, r, x, y):\n",
    "        self.__r = r\n",
    "        self.__x = x\n",
    "        self.__y = y\n",
    "        self.__pi = 3.14\n",
    "\n",
    "    def perimeter(self):\n",
    "        return (self.__pi * self.__r * 2)\n",
    "\n",
    "    def area(self):\n",
    "        return (self.__pi * self.__r) ** 2\n",
    "\n",
    "    def check_rad(self):\n",
    "        return self.__r\n",
    "\n",
    "    def check_parameters(self):\n",
    "        print(\"Radius:\", self.__r)\n",
    "\n",
    "    def check_x(self):\n",
    "        return self.__x\n",
    "\n",
    "    def check_y(self):\n",
    "        return self.__y"
   ]
  },
  {
   "cell_type": "code",
   "execution_count": 43,
   "metadata": {},
   "outputs": [
    {
     "name": "stdout",
     "output_type": "stream",
     "text": [
      "Length: 3\n",
      "Width: 4\n",
      "Perimeter: 14\n",
      "Area: 12\n",
      "X-Coordinate: 5\n",
      "Y-Coordinate: 6\n"
     ]
    }
   ],
   "source": [
    "rec = Rectangle(3,4,5,6)\n",
    "\n",
    "rec.check_parameters()\n",
    "print(\"Perimeter:\",rec.perimeter())\n",
    "print(\"Area:\",rec.area())\n",
    "print(\"X-Coordinate:\",rec.check_x())\n",
    "print(\"Y-Coordinate:\",rec.check_y())"
   ]
  },
  {
   "cell_type": "code",
   "execution_count": 44,
   "metadata": {},
   "outputs": [
    {
     "name": "stdout",
     "output_type": "stream",
     "text": [
      "Radius: 3\n",
      "Perimeter: 18.84\n",
      "Area: 88.7364\n",
      "X-Coordinate: 4\n",
      "Y-Coordinate: 5\n"
     ]
    }
   ],
   "source": [
    "cir = Circle(3,4,5)\n",
    "\n",
    "cir.check_parameters()\n",
    "print(\"Perimeter:\",cir.perimeter())\n",
    "print(\"Area:\",cir.area())\n",
    "print(\"X-Coordinate:\",cir.check_x())\n",
    "print(\"Y-Coordinate:\",cir.check_y())"
   ]
  },
  {
   "cell_type": "markdown",
   "metadata": {},
   "source": [
    "6. Implement a triangle class analogous to the rectangle and circle in question 5."
   ]
  },
  {
   "cell_type": "code",
   "execution_count": 45,
   "metadata": {},
   "outputs": [],
   "source": [
    "class Triangle(Shape):\n",
    "    def __init__(self, a, b, c, x, y):\n",
    "        self.__a = a\n",
    "        self.__b = b\n",
    "        self.__c = c\n",
    "        self.__x = x\n",
    "        self.__y = y\n",
    "\n",
    "    def perimeter(self):\n",
    "        return (self.__a + self.__b + self.__c)\n",
    "\n",
    "    def area(self):\n",
    "        semi_perim = self.perimeter() * 0.5\n",
    "        return (semi_perim * (semi_perim - self.__a) * (semi_perim - self.__b) * (semi_perim - self.__c)) ** 0.5\n",
    "\n",
    "    def check_side1(self):\n",
    "        return self.__a\n",
    "\n",
    "    def check_base(self):\n",
    "        return self.__b\n",
    "\n",
    "    def check_side2(self):\n",
    "        return self.__c\n",
    "\n",
    "    def check_parameters(self):\n",
    "        print(\"Side 1:\", self.check_side1())\n",
    "        print(\"Base:\", self.check_base())\n",
    "        print(\"Side 2:\", self.check_side2())\n",
    "\n",
    "    def check_x(self):\n",
    "        return self.__x\n",
    "\n",
    "    def check_y(self):\n",
    "        return self.__y"
   ]
  },
  {
   "cell_type": "code",
   "execution_count": 46,
   "metadata": {},
   "outputs": [
    {
     "name": "stdout",
     "output_type": "stream",
     "text": [
      "Side 1: 2\n",
      "Base: 3\n",
      "Side 2: 4\n",
      "Perimeter: 9\n",
      "Area: 2.9047375096555625\n",
      "X-Coordinate: 3\n",
      "Y-Coordinate: 2\n"
     ]
    }
   ],
   "source": [
    "tri = Triangle(2,3,4,3,2)\n",
    "\n",
    "tri.check_parameters()\n",
    "print(\"Perimeter:\",tri.perimeter())\n",
    "print(\"Area:\",tri.area())\n",
    "print(\"X-Coordinate:\",tri.check_x())\n",
    "print(\"Y-Coordinate:\",tri.check_y())"
   ]
  },
  {
   "cell_type": "markdown",
   "metadata": {},
   "source": [
    "7. Add a function to the object classes, including the base, that returns a list of up to 16 pairs of  $x$ and $y$ points on the perimeter of the object. "
   ]
  },
  {
   "cell_type": "code",
   "execution_count": null,
   "metadata": {},
   "outputs": [],
   "source": [
    "class Shape:\n",
    "\n",
    "    def perimeter(self):\n",
    "        raise NotImplementedError\n",
    "\n",
    "    def area(self):\n",
    "        raise NotImplementedError\n",
    "\n",
    "    def check_parameters(self):\n",
    "        raise NotImplementedError\n",
    "\n",
    "    def check_x(self):\n",
    "        raise NotImplementedError\n",
    "\n",
    "    def check_y(self):\n",
    "        raise NotImplementedError\n",
    "\n",
    "    def perim_points(self):\n",
    "        raise NotImplementedError"
   ]
  },
  {
   "cell_type": "code",
   "execution_count": 48,
   "metadata": {},
   "outputs": [],
   "source": [
    "class Rectangle(Shape):\n",
    "    def __init__(self, l, w, x, y):\n",
    "        self.__l = l\n",
    "        self.__w = w\n",
    "        self.__x = x\n",
    "        self.__y = y\n",
    "\n",
    "    def perimeter(self):\n",
    "        return (2 * self.__l) + (2 * self.__w)\n",
    "\n",
    "    def area(self):\n",
    "        return self.__l * self.__w\n",
    "\n",
    "    def check_len(self):\n",
    "        return self.__l\n",
    "\n",
    "    def check_wid(self):\n",
    "        return self.__w\n",
    "\n",
    "    def check_parameters(self):\n",
    "        print(\"Length:\", self.check_len())\n",
    "        print(\"Width:\", self.check_wid())\n",
    "\n",
    "    def check_x(self):\n",
    "        return self.__x\n",
    "\n",
    "    def check_y(self):\n",
    "        return self.__y\n",
    "\n",
    "    def perim_points(self):\n",
    "        coordinates = []\n",
    "        num_coordinates = min(16, self.perimeter())\n",
    "        for i in range(num_coordinates):\n",
    "            if i < num_coordinates // 4:\n",
    "                x_point = self.__x + (i * self.__l // (num_coordinates // 4))\n",
    "                y_point = self.__y\n",
    "            elif i < num_coordinates // 2:\n",
    "                x_point = self.__x + self.__l\n",
    "                y_point = self.__y + ((i - num_coordinates // 4) * self.__w // (num_coordinates // 4))\n",
    "            elif i < (3 * num_coordinates) // 4:\n",
    "                x_point = self.__x + self.__l - ((i - num_coordinates // 2) * self.__l // (num_coordinates // 4))\n",
    "                y_point = self.__y + self.__w\n",
    "            else:\n",
    "                x_point = self.__x\n",
    "                y_point = self.__y + self.__w - ((i - (3 * num_coordinates) // 4) * self.__w // (num_coordinates // 4))\n",
    "\n",
    "            coordinates.append((x_point, y_point))\n",
    "        return coordinates\n",
    "        "
   ]
  },
  {
   "cell_type": "code",
   "execution_count": 49,
   "metadata": {},
   "outputs": [],
   "source": [
    "class Circle(Shape):\n",
    "    def __init__(self, r, x, y):\n",
    "        self.__r = r\n",
    "        self.__x = x\n",
    "        self.__y = y\n",
    "        self.__pi = 3.14\n",
    "\n",
    "    def perimeter(self):\n",
    "        return (self.__pi * self.__r * 2)\n",
    "\n",
    "    def area(self):\n",
    "        return (self.__pi * self.__r) ** 2\n",
    "\n",
    "    def check_rad(self):\n",
    "        return self.__r\n",
    "\n",
    "    def check_parameters(self):\n",
    "        print(\"Radius:\", self.__r)\n",
    "\n",
    "    def check_x(self):\n",
    "        return self.__x\n",
    "\n",
    "    def check_y(self):\n",
    "        return self.__y\n",
    "\n",
    "    def perim_points(self):\n",
    "        coordinates = []\n",
    "        num_coordinates = min(16, int(self.perimeter()))\n",
    "        for i in range(num_coordinates):\n",
    "            angle = (i / num_coordinates) * 2 * self.__pi\n",
    "            x_point = int(self.__x + self.__r * round((angle / self.__pi), 6))\n",
    "            y_point = int(self.__y + self.__r * round((angle / self.__pi), 6))\n",
    "            coordinates.append((x_point, y_point))\n",
    "        return coordinates"
   ]
  },
  {
   "cell_type": "code",
   "execution_count": 50,
   "metadata": {},
   "outputs": [],
   "source": [
    "class Triangle(Shape):\n",
    "    def __init__(self, a, b, c, x, y):\n",
    "        self.__a = a\n",
    "        self.__b = b\n",
    "        self.__c = c\n",
    "        self.__x = x\n",
    "        self.__y = y\n",
    "\n",
    "    def perimeter(self):\n",
    "        return (self.__a + self.__b + self.__c)\n",
    "\n",
    "    def area(self):\n",
    "        semi_perim = self.perimeter() * 0.5\n",
    "        return (semi_perim * (semi_perim - self.__a) * (semi_perim - self.__b) * (semi_perim - self.__c)) ** 0.5\n",
    "\n",
    "    def check_side1(self):\n",
    "        return self.__a\n",
    "\n",
    "    def check_base(self):\n",
    "        return self.__b\n",
    "\n",
    "    def check_side2(self):\n",
    "        return self.__c\n",
    "\n",
    "    def check_parameters(self):\n",
    "        print(\"Side 1:\", self.check_side1())\n",
    "        print(\"Base:\", self.check_base())\n",
    "        print(\"Side 2:\", self.check_side2())\n",
    "\n",
    "    def check_x(self):\n",
    "        return self.__x\n",
    "\n",
    "    def check_y(self):\n",
    "        return self.__y\n",
    "\n",
    "    def perim_points(self):\n",
    "        coordinates = []\n",
    "        num_coordinates = min(16, self.perimeter())\n",
    "        for i in range(num_coordinates):\n",
    "            if i < num_coordinates // 3:\n",
    "                x_point = self.__x - (i * self.__b // (num_coordinates // 3))\n",
    "                y_point = self.__y + (i * self.__a // (num_coordinates // 3))\n",
    "            elif i < (2 * num_coordinates) // 3:  # Side 2\n",
    "                x_point = self.__x + ((i - num_coordinates // 3) * self.__b // (num_coordinates // 3))\n",
    "                y_point = self.__y - ((i - num_coordinates // 3) * self.__a // (num_coordinates // 3))\n",
    "            else:  # Side 3 (Base)\n",
    "                x_point = self.__x - ((i - (2 * num_coordinates) // 3) * self.__c // (num_coordinates // 3))\n",
    "                y_point = self.__y\n",
    "\n",
    "            coordinates.append((x_point, y_point))\n",
    "        return coordinates"
   ]
  },
  {
   "cell_type": "code",
   "execution_count": 52,
   "metadata": {},
   "outputs": [
    {
     "data": {
      "text/plain": [
       "[(5, 6),\n",
       " (6, 6),\n",
       " (7, 6),\n",
       " (8, 6),\n",
       " (8, 7),\n",
       " (8, 8),\n",
       " (8, 10),\n",
       " (8, 10),\n",
       " (7, 10),\n",
       " (6, 10),\n",
       " (5, 10),\n",
       " (5, 9),\n",
       " (5, 8),\n",
       " (5, 6)]"
      ]
     },
     "execution_count": 52,
     "metadata": {},
     "output_type": "execute_result"
    }
   ],
   "source": [
    "rec = Rectangle(3,4,5,6)\n",
    "\n",
    "rec.perim_points()"
   ]
  },
  {
   "cell_type": "code",
   "execution_count": 53,
   "metadata": {},
   "outputs": [
    {
     "data": {
      "text/plain": [
       "[(4, 5),\n",
       " (4, 5),\n",
       " (4, 5),\n",
       " (5, 6),\n",
       " (5, 6),\n",
       " (5, 6),\n",
       " (6, 7),\n",
       " (6, 7),\n",
       " (7, 8),\n",
       " (7, 8),\n",
       " (7, 8),\n",
       " (8, 9),\n",
       " (8, 9),\n",
       " (8, 9),\n",
       " (9, 10),\n",
       " (9, 10)]"
      ]
     },
     "execution_count": 53,
     "metadata": {},
     "output_type": "execute_result"
    }
   ],
   "source": [
    "cir = Circle(3,4,5)\n",
    "\n",
    "cir.perim_points()"
   ]
  },
  {
   "cell_type": "code",
   "execution_count": 51,
   "metadata": {},
   "outputs": [
    {
     "data": {
      "text/plain": [
       "[(3, 2), (2, 2), (1, 3), (3, 2), (4, 2), (5, 1), (3, 2), (2, 2), (1, 2)]"
      ]
     },
     "execution_count": 51,
     "metadata": {},
     "output_type": "execute_result"
    }
   ],
   "source": [
    "tri = Triangle(2,3,4,3,2)\n",
    "\n",
    "tri.perim_points()"
   ]
  },
  {
   "cell_type": "markdown",
   "metadata": {},
   "source": [
    "8. Add a function to the object classes, including the base, that tests if a given set of $x$ and $y$ coordinates are inside of the object. You'll have to think through how to determine if a set of coordinates are inside an object for each object type."
   ]
  },
  {
   "cell_type": "code",
   "execution_count": 104,
   "metadata": {},
   "outputs": [],
   "source": [
    "class Shape:\n",
    "\n",
    "    def perimeter(self):\n",
    "        raise NotImplementedError\n",
    "\n",
    "    def area(self):\n",
    "        raise NotImplementedError\n",
    "\n",
    "    def check_parameters(self):\n",
    "        raise NotImplementedError\n",
    "\n",
    "    def check_x(self):\n",
    "        raise NotImplementedError\n",
    "\n",
    "    def check_y(self):\n",
    "        raise NotImplementedError\n",
    "\n",
    "    def perim_points(self):\n",
    "        raise NotImplementedError\n",
    "\n",
    "    def is_inside(self):\n",
    "        raise NotImplementedError\n",
    "\n",
    "###################################################################################################\n",
    "\n",
    "class Rectangle(Shape):\n",
    "    def __init__(self, l, w, x, y):\n",
    "        self.__l = l\n",
    "        self.__w = w\n",
    "        self.__x = x\n",
    "        self.__y = y\n",
    "\n",
    "    def perimeter(self):\n",
    "        return (2 * self.__l) + (2 * self.__w)\n",
    "\n",
    "    def area(self):\n",
    "        return self.__l * self.__w\n",
    "\n",
    "    def check_len(self):\n",
    "        return self.__l\n",
    "\n",
    "    def check_wid(self):\n",
    "        return self.__w\n",
    "\n",
    "    def check_parameters(self):\n",
    "        print(\"Length:\", self.check_len())\n",
    "        print(\"Width:\", self.check_wid())\n",
    "\n",
    "    def check_x(self):\n",
    "        return self.__x\n",
    "\n",
    "    def check_y(self):\n",
    "        return self.__y\n",
    "\n",
    "    def perim_points(self):\n",
    "        coordinates = []\n",
    "        num_coordinates = min(16, self.perimeter())\n",
    "        for i in range(num_coordinates):\n",
    "            if i < num_coordinates // 4:\n",
    "                x_point = self.__x + (i * self.__l // (num_coordinates // 4))\n",
    "                y_point = self.__y\n",
    "            elif i < num_coordinates // 2:\n",
    "                x_point = self.__x + self.__l\n",
    "                y_point = self.__y + ((i - num_coordinates // 4) * self.__w // (num_coordinates // 4))\n",
    "            elif i < (3 * num_coordinates) // 4:\n",
    "                x_point = self.__x + self.__l - ((i - num_coordinates // 2) * self.__l // (num_coordinates // 4))\n",
    "                y_point = self.__y + self.__w\n",
    "            else:\n",
    "                x_point = self.__x\n",
    "                y_point = self.__y + self.__w - ((i - (3 * num_coordinates) // 4) * self.__w // (num_coordinates // 4))\n",
    "\n",
    "            coordinates.append((x_point, y_point))\n",
    "        return coordinates\n",
    "\n",
    "    def is_inside(self, x, y):\n",
    "        left_x = self.__x\n",
    "        right_x = self.__x + self.__l\n",
    "        bottom_y = self.__y\n",
    "        top_y = self.__y + self.__w\n",
    "        return left_x < x < right_x and bottom_y < y < top_y\n",
    "\n",
    "\n",
    "###################################################################################################\n",
    "\n",
    "class Circle(Shape):\n",
    "    def __init__(self, r, x, y):\n",
    "        self.__r = r\n",
    "        self.__x = x\n",
    "        self.__y = y\n",
    "        self.__pi = 3.14\n",
    "\n",
    "    def perimeter(self):\n",
    "        return (self.__pi * self.__r * 2)\n",
    "\n",
    "    def area(self):\n",
    "        return (self.__pi * self.__r) ** 2\n",
    "\n",
    "    def check_rad(self):\n",
    "        return self.__r\n",
    "\n",
    "    def check_parameters(self):\n",
    "        print(\"Radius:\", self.__r)\n",
    "\n",
    "    def check_x(self):\n",
    "        return self.__x\n",
    "\n",
    "    def check_y(self):\n",
    "        return self.__y\n",
    "\n",
    "    def perim_points(self):\n",
    "        coordinates = []\n",
    "        num_coordinates = min(16, int(self.perimeter()))\n",
    "        for i in range(num_coordinates):\n",
    "            angle = (i / num_coordinates) * 2 * self.__pi\n",
    "            x_point = int(self.__x + self.__r * round((angle / self.__pi), 6))\n",
    "            y_point = int(self.__y + self.__r * round((angle / self.__pi), 6))\n",
    "            coordinates.append((x_point, y_point))\n",
    "        return coordinates\n",
    "\n",
    "    def is_inside(self, x, y):\n",
    "        center_x = self.__x\n",
    "        center_y = self.__y\n",
    "        radius = self.__r\n",
    "        return (x - center_x) ** 2 + (y - center_y) ** 2 < radius ** 2\n",
    "\n",
    "\n",
    "###################################################################################################\n",
    "\n",
    "class Triangle(Shape):\n",
    "    def __init__(self, a, b, c, x, y):\n",
    "        self.__a = a\n",
    "        self.__b = b\n",
    "        self.__c = c\n",
    "        self.__x = x\n",
    "        self.__y = y\n",
    "\n",
    "    def perimeter(self):\n",
    "        return (self.__a + self.__b + self.__c)\n",
    "\n",
    "    def area(self):\n",
    "        semi_perim = self.perimeter() * 0.5\n",
    "        return (semi_perim * (semi_perim - self.__a) * (semi_perim - self.__b) * (semi_perim - self.__c)) ** 0.5\n",
    "\n",
    "    def check_side1(self):\n",
    "        return self.__a\n",
    "\n",
    "    def check_base(self):\n",
    "        return self.__b\n",
    "\n",
    "    def check_side2(self):\n",
    "        return self.__c\n",
    "\n",
    "    def check_parameters(self):\n",
    "        print(\"Side 1:\", self.check_side1())\n",
    "        print(\"Base:\", self.check_base())\n",
    "        print(\"Side 2:\", self.check_side2())\n",
    "\n",
    "    def check_x(self):\n",
    "        return self.__x\n",
    "\n",
    "    def check_y(self):\n",
    "        return self.__y\n",
    "\n",
    "    def perim_points(self):\n",
    "        coordinates = []\n",
    "        num_coordinates = min(16, self.perimeter())\n",
    "        for i in range(num_coordinates):\n",
    "            if i < num_coordinates // 3:\n",
    "                x_point = self.__x - (i * self.__b // (num_coordinates // 3))\n",
    "                y_point = self.__y + (i * self.__a // (num_coordinates // 3))\n",
    "            elif i < (2 * num_coordinates) // 3:  # Side 2\n",
    "                x_point = self.__x + ((i - num_coordinates // 3) * self.__b // (num_coordinates // 3))\n",
    "                y_point = self.__y - ((i - num_coordinates // 3) * self.__a // (num_coordinates // 3))\n",
    "            else:  # Side 3 (Base)\n",
    "                x_point = self.__x - ((i - (2 * num_coordinates) // 3) * self.__c // (num_coordinates // 3))\n",
    "                y_point = self.__y\n",
    "\n",
    "            coordinates.append((x_point, y_point))\n",
    "        return coordinates\n",
    "\n",
    "    def is_inside(self, x, y):\n",
    "        x1, y1 = self.__x, self.__y\n",
    "        x2, y2 = self.__x + self.__b, self.__y\n",
    "        x3, y3 = self.__x + (self.__b // 2), self.__y + self.__a\n",
    "        def tri_area(x1, y1, x2, y2, x3, y3):\n",
    "            return abs((x1*(y2 - y3) + x2*(y3 - y1) + x3*(y1 - y2)) / 2.0)\n",
    "        A = self.area()\n",
    "        A1 = tri_area(x, y, x2, y2, x3, y3)\n",
    "        A2 = tri_area(x1, y1, x, y, x3, y3)\n",
    "        A3 = tri_area(x1, y1, x2, y2, x, y)\n",
    "        return (A1 + A2 + A3 == A)"
   ]
  },
  {
   "cell_type": "code",
   "execution_count": 105,
   "metadata": {},
   "outputs": [
    {
     "name": "stdout",
     "output_type": "stream",
     "text": [
      "False\n",
      "True\n"
     ]
    }
   ],
   "source": [
    "rec = Rectangle(3,4,5,6)\n",
    "\n",
    "print(rec.is_inside(4,8))\n",
    "print(rec.is_inside(6,7))"
   ]
  },
  {
   "cell_type": "code",
   "execution_count": 106,
   "metadata": {},
   "outputs": [
    {
     "name": "stdout",
     "output_type": "stream",
     "text": [
      "True\n",
      "False\n"
     ]
    }
   ],
   "source": [
    "cir = Circle(5, 10, 10)\n",
    "\n",
    "print(cir.is_inside(12,10))\n",
    "print(cir.is_inside(15,10))"
   ]
  },
  {
   "cell_type": "code",
   "execution_count": 108,
   "metadata": {},
   "outputs": [
    {
     "name": "stdout",
     "output_type": "stream",
     "text": [
      "True\n",
      "False\n"
     ]
    }
   ],
   "source": [
    "tri = Triangle(3, 4, 5, 6, 6)\n",
    "\n",
    "print(tri.is_inside(7,7))\n",
    "print(tri.is_inside(5,5))"
   ]
  },
  {
   "cell_type": "markdown",
   "metadata": {},
   "source": [
    "9. Add a function in the base class of the object classes that returns true/false testing that the object overlaps with another object."
   ]
  },
  {
   "cell_type": "code",
   "execution_count": 122,
   "metadata": {},
   "outputs": [],
   "source": [
    "class Shape:\n",
    "\n",
    "    def perimeter(self):\n",
    "        raise NotImplementedError\n",
    "\n",
    "    def area(self):\n",
    "        raise NotImplementedError\n",
    "\n",
    "    def check_parameters(self):\n",
    "        raise NotImplementedError\n",
    "\n",
    "    def check_x(self):\n",
    "        raise NotImplementedError\n",
    "\n",
    "    def check_y(self):\n",
    "        raise NotImplementedError\n",
    "\n",
    "    def perim_points(self):\n",
    "        raise NotImplementedError\n",
    "\n",
    "    def is_inside(self):\n",
    "        raise NotImplementedError\n",
    "\n",
    "    def overlaps(self, other):\n",
    "        if any(other.is_inside(x, y) for x, y in self.perim_points()):\n",
    "            return True\n",
    "        if any(self.is_inside(x, y) for x, y in other.perim_points()):\n",
    "            return True\n",
    "        return False\n",
    "\n",
    "###################################################################################################\n",
    "\n",
    "class Rectangle(Shape):\n",
    "    def __init__(self, l, w, x, y):\n",
    "        self.__l = l\n",
    "        self.__w = w\n",
    "        self.__x = x\n",
    "        self.__y = y\n",
    "\n",
    "    def perimeter(self):\n",
    "        return (2 * self.__l) + (2 * self.__w)\n",
    "\n",
    "    def area(self):\n",
    "        return self.__l * self.__w\n",
    "\n",
    "    def check_len(self):\n",
    "        return self.__l\n",
    "\n",
    "    def check_wid(self):\n",
    "        return self.__w\n",
    "\n",
    "    def check_parameters(self):\n",
    "        print(\"Length:\", self.check_len())\n",
    "        print(\"Width:\", self.check_wid())\n",
    "\n",
    "    def check_x(self):\n",
    "        return self.__x\n",
    "\n",
    "    def check_y(self):\n",
    "        return self.__y\n",
    "\n",
    "    def perim_points(self):\n",
    "        coordinates = []\n",
    "        num_coordinates = min(16, self.perimeter())\n",
    "        for i in range(num_coordinates):\n",
    "            if i < num_coordinates // 4:\n",
    "                x_point = self.__x + (i * self.__l // (num_coordinates // 4))\n",
    "                y_point = self.__y\n",
    "            elif i < num_coordinates // 2:\n",
    "                x_point = self.__x + self.__l\n",
    "                y_point = self.__y + ((i - num_coordinates // 4) * self.__w // (num_coordinates // 4))\n",
    "            elif i < (3 * num_coordinates) // 4:\n",
    "                x_point = self.__x + self.__l - ((i - num_coordinates // 2) * self.__l // (num_coordinates // 4))\n",
    "                y_point = self.__y + self.__w\n",
    "            else:\n",
    "                x_point = self.__x\n",
    "                y_point = self.__y + self.__w - ((i - (3 * num_coordinates) // 4) * self.__w // (num_coordinates // 4))\n",
    "\n",
    "            coordinates.append((x_point, y_point))\n",
    "        return coordinates\n",
    "\n",
    "    def is_inside(self, x, y):\n",
    "        left_x = self.__x\n",
    "        right_x = self.__x + self.__l\n",
    "        bottom_y = self.__y\n",
    "        top_y = self.__y + self.__w\n",
    "        return left_x < x < right_x and bottom_y < y < top_y\n",
    "\n",
    "\n",
    "###################################################################################################\n",
    "\n",
    "class Circle(Shape):\n",
    "    def __init__(self, r, x, y):\n",
    "        self.__r = r\n",
    "        self.__x = x\n",
    "        self.__y = y\n",
    "        self.__pi = 3.14\n",
    "\n",
    "    def perimeter(self):\n",
    "        return (self.__pi * self.__r * 2)\n",
    "\n",
    "    def area(self):\n",
    "        return (self.__pi * self.__r) ** 2\n",
    "\n",
    "    def check_rad(self):\n",
    "        return self.__r\n",
    "\n",
    "    def check_parameters(self):\n",
    "        print(\"Radius:\", self.__r)\n",
    "\n",
    "    def check_x(self):\n",
    "        return self.__x\n",
    "\n",
    "    def check_y(self):\n",
    "        return self.__y\n",
    "\n",
    "    def perim_points(self):\n",
    "        coordinates = []\n",
    "        num_coordinates = min(16, int(self.perimeter()))\n",
    "        for i in range(num_coordinates):\n",
    "            angle = (i / num_coordinates) * 2 * self.__pi\n",
    "            x_point = int(self.__x + self.__r * round((angle / self.__pi), 6))\n",
    "            y_point = int(self.__y + self.__r * round((angle / self.__pi), 6))\n",
    "            coordinates.append((x_point, y_point))\n",
    "        return coordinates\n",
    "\n",
    "    def is_inside(self, x, y):\n",
    "        center_x = self.__x\n",
    "        center_y = self.__y\n",
    "        radius = self.__r\n",
    "        return (x - center_x) ** 2 + (y - center_y) ** 2 < radius ** 2\n",
    "\n",
    "\n",
    "###################################################################################################\n",
    "\n",
    "class Triangle(Shape):\n",
    "    def __init__(self, a, b, c, x, y):\n",
    "        self.__a = a\n",
    "        self.__b = b\n",
    "        self.__c = c\n",
    "        self.__x = x\n",
    "        self.__y = y\n",
    "\n",
    "    def perimeter(self):\n",
    "        return (self.__a + self.__b + self.__c)\n",
    "\n",
    "    def area(self):\n",
    "        semi_perim = self.perimeter() * 0.5\n",
    "        return (semi_perim * (semi_perim - self.__a) * (semi_perim - self.__b) * (semi_perim - self.__c)) ** 0.5\n",
    "\n",
    "    def check_side1(self):\n",
    "        return self.__a\n",
    "\n",
    "    def check_base(self):\n",
    "        return self.__b\n",
    "\n",
    "    def check_side2(self):\n",
    "        return self.__c\n",
    "\n",
    "    def check_parameters(self):\n",
    "        print(\"Side 1:\", self.check_side1())\n",
    "        print(\"Base:\", self.check_base())\n",
    "        print(\"Side 2:\", self.check_side2())\n",
    "\n",
    "    def check_x(self):\n",
    "        return self.__x\n",
    "\n",
    "    def check_y(self):\n",
    "        return self.__y\n",
    "\n",
    "    def perim_points(self):\n",
    "        coordinates = []\n",
    "        num_coordinates = min(16, self.perimeter())\n",
    "        for i in range(num_coordinates):\n",
    "            if i < num_coordinates // 3:\n",
    "                x_point = self.__x - (i * self.__b // (num_coordinates // 3))\n",
    "                y_point = self.__y + (i * self.__a // (num_coordinates // 3))\n",
    "            elif i < (2 * num_coordinates) // 3:  # Side 2\n",
    "                x_point = self.__x + ((i - num_coordinates // 3) * self.__b // (num_coordinates // 3))\n",
    "                y_point = self.__y - ((i - num_coordinates // 3) * self.__a // (num_coordinates // 3))\n",
    "            else:  # Side 3 (Base)\n",
    "                x_point = self.__x - ((i - (2 * num_coordinates) // 3) * self.__c // (num_coordinates // 3))\n",
    "                y_point = self.__y\n",
    "\n",
    "            coordinates.append((x_point, y_point))\n",
    "        return coordinates\n",
    "\n",
    "    def is_inside(self, x, y):\n",
    "        x1, y1 = self.__x, self.__y\n",
    "        x2, y2 = self.__x + self.__b, self.__y\n",
    "        x3, y3 = self.__x + (self.__b // 2), self.__y + self.__a\n",
    "        def tri_area(x1, y1, x2, y2, x3, y3):\n",
    "            return abs((x1*(y2 - y3) + x2*(y3 - y1) + x3*(y1 - y2)) / 2.0)\n",
    "        A = self.area()\n",
    "        A1 = tri_area(x, y, x2, y2, x3, y3)\n",
    "        A2 = tri_area(x1, y1, x, y, x3, y3)\n",
    "        A3 = tri_area(x1, y1, x2, y2, x, y)\n",
    "        return (A1 + A2 + A3 == A)"
   ]
  },
  {
   "cell_type": "code",
   "execution_count": 123,
   "metadata": {},
   "outputs": [
    {
     "name": "stdout",
     "output_type": "stream",
     "text": [
      "True\n",
      "True\n",
      "True\n"
     ]
    }
   ],
   "source": [
    "rec = Rectangle(3, 4, 5, 6)\n",
    "cir = Circle(3, 6, 7)\n",
    "tri = Triangle(3, 4, 5, 5, 5)\n",
    "\n",
    "print(rec.overlaps(cir))  # ✅ True\n",
    "print(rec.overlaps(tri))  # ✅ True\n",
    "print(tri.overlaps(cir))"
   ]
  },
  {
   "cell_type": "markdown",
   "metadata": {},
   "source": [
    "10. Copy the `Canvas` class from lecture to in a python file creating a `paint` module. Copy your classes from above into the module and implement paint functions. Implement a `CompoundShape` class. Create a simple drawing demonstrating that all of your classes are working."
   ]
  },
  {
   "cell_type": "code",
   "execution_count": 193,
   "metadata": {},
   "outputs": [
    {
     "data": {
      "text/plain": [
       "<module 'paint' from '/Users/drakerogers19/DATA3402.Spring.2025/Labs/Lab.4/paint.py'>"
      ]
     },
     "execution_count": 193,
     "metadata": {},
     "output_type": "execute_result"
    }
   ],
   "source": [
    "import importlib\n",
    "import paint\n",
    "importlib.reload(paint)"
   ]
  },
  {
   "cell_type": "code",
   "execution_count": 194,
   "metadata": {},
   "outputs": [],
   "source": [
    "from paint import Canvas, Rectangle, Circle, Triangle, CompoundShape"
   ]
  },
  {
   "cell_type": "code",
   "execution_count": 195,
   "metadata": {},
   "outputs": [
    {
     "name": "stdout",
     "output_type": "stream",
     "text": [
      "                    \n",
      "                    \n",
      "                    \n",
      "                    \n",
      "            ^^^^^^  \n",
      "     ** ** *^  ^    \n",
      "     *     * ^ ^    \n",
      "     * OO OOO^^     \n",
      "     * O   *O       \n",
      "     * ** **        \n",
      "       O     O      \n",
      "       O    O       \n",
      "       OO  OO       \n",
      "          O         \n",
      "                    \n",
      "                    \n",
      "                    \n",
      "                    \n",
      "                    \n",
      "                    \n"
     ]
    }
   ],
   "source": [
    "canvas = Canvas(20, 20)\n",
    "\n",
    "rec = Rectangle(6, 4, 5, 5)\n",
    "cir = Circle(3, 10, 10)\n",
    "tri = Triangle(4, 5, 6, 12, 4)\n",
    "\n",
    "comp = CompoundShape()\n",
    "comp.add_shape(rec)\n",
    "comp.add_shape(cir)\n",
    "comp.add_shape(tri)\n",
    "\n",
    "comp.paint(canvas)\n",
    "canvas.display()"
   ]
  },
  {
   "cell_type": "markdown",
   "metadata": {},
   "source": [
    "11. Create a `RasterDrawing` class. Demonstrate that you can create a drawing made of several shapes, paint the drawing, modify the drawing, and paint it again. "
   ]
  },
  {
   "cell_type": "code",
   "execution_count": 196,
   "metadata": {},
   "outputs": [
    {
     "name": "stdout",
     "output_type": "stream",
     "text": [
      "                    \n",
      "                    \n",
      "                    \n",
      "                    \n",
      "            ^^^^^^  \n",
      "     ** ** *^  ^    \n",
      "     *     * ^ ^    \n",
      "     * OO OOO^^     \n",
      "     * O   *O       \n",
      "     * ** **        \n",
      "       O     O      \n",
      "       O    O       \n",
      "       OO  OO       \n",
      "          O         \n",
      "                    \n",
      "                    \n",
      "                    \n",
      "                    \n",
      "                    \n",
      "                    \n"
     ]
    }
   ],
   "source": [
    "from paint import RasterDrawing\n",
    "\n",
    "canv = RasterDrawing(20, 20)\n",
    "rec = Rectangle(6, 4, 5, 5)\n",
    "cir = Circle(3, 10, 10)\n",
    "tri = Triangle(4, 5, 6, 12, 4)\n",
    "\n",
    "canv.add_shape(rec)\n",
    "canv.add_shape(cir)\n",
    "canv.add_shape(tri)\n",
    "canv.paint()"
   ]
  },
  {
   "cell_type": "code",
   "execution_count": 197,
   "metadata": {},
   "outputs": [
    {
     "name": "stdout",
     "output_type": "stream",
     "text": [
      "                    \n",
      "                    \n",
      "  *** *             \n",
      "  *   *             \n",
      "  *   *     ^^^^^^  \n",
      "  * *** ** *^  ^    \n",
      "     *     * ^ ^    \n",
      "     *     * ^^     \n",
      "     *     *        \n",
      "     * ** **        \n",
      "                    \n",
      "                    \n",
      "                    \n",
      "                    \n",
      "                    \n",
      "                    \n",
      "                    \n",
      "                    \n",
      "                    \n",
      "                    \n"
     ]
    }
   ],
   "source": [
    "canv.remove_shape(cir)\n",
    "rec2 = Rectangle(4, 3, 2, 2)\n",
    "canv.add_shape(rec2)\n",
    "canv.paint()"
   ]
  },
  {
   "cell_type": "markdown",
   "metadata": {},
   "source": [
    "12. Implement the ability to load/save raster drawings and demonstate that your method works. One way to implement this ability:\n",
    "\n",
    "   * Overload `__repr__` functions of all objects to return strings of the python code that would construct the object.\n",
    "   \n",
    "   * In the save method of raster drawing class, store the representations into the file.\n",
    "   * Write a loader function that reads the file and uses `eval` to instantiate the object.\n",
    "\n",
    "For example:"
   ]
  },
  {
   "cell_type": "code",
   "execution_count": 198,
   "metadata": {},
   "outputs": [],
   "source": [
    "class foo:\n",
    "    def __init__(self,a,b=None):\n",
    "        self.a=a\n",
    "        self.b=b\n",
    "        \n",
    "    def __repr__(self):\n",
    "        return \"foo(\"+repr(self.a)+\",\"+repr(self.b)+\")\"\n",
    "    \n",
    "    def save(self,filename):\n",
    "        f=open(filename,\"w\")\n",
    "        f.write(self.__repr__())\n",
    "        f.close()\n",
    "        \n",
    "   \n",
    "def foo_loader(filename):\n",
    "    f=open(filename,\"r\")\n",
    "    tmp=eval(f.read())\n",
    "    f.close()\n",
    "    return tmp\n"
   ]
  },
  {
   "cell_type": "code",
   "execution_count": 199,
   "metadata": {},
   "outputs": [
    {
     "name": "stdout",
     "output_type": "stream",
     "text": [
      "foo(1,'hello')\n"
     ]
    }
   ],
   "source": [
    "# Test\n",
    "print(repr(foo(1,\"hello\")))"
   ]
  },
  {
   "cell_type": "code",
   "execution_count": 200,
   "metadata": {},
   "outputs": [],
   "source": [
    "# Create an object and save it\n",
    "ff=foo(1,\"hello\")\n",
    "ff.save(\"Test.foo\")"
   ]
  },
  {
   "cell_type": "code",
   "execution_count": 201,
   "metadata": {},
   "outputs": [
    {
     "name": "stdout",
     "output_type": "stream",
     "text": [
      "foo(1,'hello')"
     ]
    }
   ],
   "source": [
    "# Check contents of the saved file\n",
    "!cat Test.foo"
   ]
  },
  {
   "cell_type": "code",
   "execution_count": 202,
   "metadata": {},
   "outputs": [
    {
     "data": {
      "text/plain": [
       "foo(1,'hello')"
      ]
     },
     "execution_count": 202,
     "metadata": {},
     "output_type": "execute_result"
    }
   ],
   "source": [
    "# Load the object\n",
    "ff_reloaded=foo_loader(\"Test.foo\")\n",
    "ff_reloaded"
   ]
  },
  {
   "cell_type": "code",
   "execution_count": 203,
   "metadata": {},
   "outputs": [
    {
     "name": "stdout",
     "output_type": "stream",
     "text": [
      "                    \n",
      "                    \n",
      "  *** *             \n",
      "  *   *             \n",
      "  *   *     ^^^^^^  \n",
      "  * *** ** *^  ^    \n",
      "     *     * ^ ^    \n",
      "     *     * ^^     \n",
      "     *     *        \n",
      "     * ** **        \n",
      "                    \n",
      "                    \n",
      "                    \n",
      "                    \n",
      "                    \n",
      "                    \n",
      "                    \n",
      "                    \n",
      "                    \n",
      "                    \n"
     ]
    }
   ],
   "source": [
    "canv.paint()"
   ]
  },
  {
   "cell_type": "code",
   "execution_count": 204,
   "metadata": {},
   "outputs": [],
   "source": [
    "canv.save(\"canv1.txt\")"
   ]
  },
  {
   "cell_type": "code",
   "execution_count": 205,
   "metadata": {},
   "outputs": [],
   "source": [
    "canv1= RasterDrawing.load(\"canv1.txt\")"
   ]
  },
  {
   "cell_type": "code",
   "execution_count": 206,
   "metadata": {},
   "outputs": [
    {
     "name": "stdout",
     "output_type": "stream",
     "text": [
      "                    \n",
      "                    \n",
      "  *** *             \n",
      "  *   *             \n",
      "  *   *     ^^^^^^  \n",
      "  * *** ** *^  ^    \n",
      "     *     * ^ ^    \n",
      "     *     * ^^     \n",
      "     *     *        \n",
      "     * ** **        \n",
      "                    \n",
      "                    \n",
      "                    \n",
      "                    \n",
      "                    \n",
      "                    \n",
      "                    \n",
      "                    \n",
      "                    \n",
      "                    \n"
     ]
    }
   ],
   "source": [
    "canv1.paint()"
   ]
  }
 ],
 "metadata": {
  "kernelspec": {
   "display_name": "Python 3 (ipykernel)",
   "language": "python",
   "name": "python3"
  },
  "language_info": {
   "codemirror_mode": {
    "name": "ipython",
    "version": 3
   },
   "file_extension": ".py",
   "mimetype": "text/x-python",
   "name": "python",
   "nbconvert_exporter": "python",
   "pygments_lexer": "ipython3",
   "version": "3.12.8"
  }
 },
 "nbformat": 4,
 "nbformat_minor": 4
}
